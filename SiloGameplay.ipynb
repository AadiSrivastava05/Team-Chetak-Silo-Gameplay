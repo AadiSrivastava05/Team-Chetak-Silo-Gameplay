{
  "nbformat": 4,
  "nbformat_minor": 0,
  "metadata": {
    "colab": {
      "provenance": []
    },
    "kernelspec": {
      "name": "python3",
      "display_name": "Python 3"
    },
    "language_info": {
      "name": "python"
    }
  },
  "cells": [
    {
      "cell_type": "code",
      "source": [
        "import random as rm\n",
        "from scipy.stats import norm\n",
        "import seaborn as sns\n",
        "import numpy as np"
      ],
      "metadata": {
        "id": "RZMPh1lauHhL"
      },
      "execution_count": 2,
      "outputs": []
    },
    {
      "cell_type": "code",
      "execution_count": 26,
      "metadata": {
        "id": "igjLej3Ckeqc"
      },
      "outputs": [],
      "source": [
        "def reset(s):\n",
        "  s=[[] ,[], [], [], []]\n",
        "def dropball(s, b, n):\n",
        "  s[n].insert(0,b)\n",
        "def turn(s, b, z=1):\n",
        "  for i in range(z):\n",
        "    for i in range(5):\n",
        "      if len(s[i]) == 2 and (b in s[i]):\n",
        "        dropball(s,b,i)\n",
        "        return\n",
        "    for i in range(5):\n",
        "      if len(s[i]) == 2:\n",
        "        dropball(s,b,i)\n",
        "        return\n",
        "    for i in range(5):\n",
        "      if len(s[i]) == 0:\n",
        "        dropball(s,b,i)\n",
        "        return\n",
        "    for i in range(5):\n",
        "      if len(s[i])==1 and (b not in s[i]):\n",
        "        dropball(s,b,i)\n",
        "        return\n",
        "    for i in range(5):\n",
        "      if len(s[i])<3:\n",
        "        dropball(s,b,i)\n",
        "        return\n",
        "def randturn(s, b, z=1):\n",
        "  for i in range(z):\n",
        "    while True:\n",
        "      x=rm.randint(0,4)\n",
        "      if len(s[x])<3:\n",
        "        dropball(s,b,x)\n",
        "        break\n",
        "  display(s)\n",
        "def display(s):\n",
        "  for i in range(3):\n",
        "    for j in range(5):\n",
        "      try:\n",
        "        print(s[j][i-3], end = \" \")\n",
        "      except:\n",
        "        print(\"x\", end = \" \")\n",
        "    print()\n",
        "  print()\n",
        "def checkwin(s, a, b):\n",
        "  ca=0\n",
        "  cb=0\n",
        "  for i in range(5):\n",
        "    if len(s[i])==3:\n",
        "      if s[i][0]==a and (a in s[i][1:]):\n",
        "        ca+=1\n",
        "      elif s[i][0]==b and (b in s[i][1:]):\n",
        "        cb+=1\n",
        "  print(\"a: \",ca,\" b: \",cb)\n",
        "  if ca>=3:\n",
        "    print(a, \" team wins!\")\n",
        "    return 1\n",
        "  elif cb>=3:\n",
        "    print(b, \" team wins!\")\n",
        "    return 1\n",
        "  l=0\n",
        "  for i in range(5):\n",
        "    if len(s[i])==3:\n",
        "      l+=1\n",
        "  if l==5:\n",
        "    print(\"No clear winner\")\n",
        "    return 1\n",
        "  return 0\n",
        "data_normal = norm.rvs(size=10000,loc=0,scale=0.75)\n",
        "pdf = (norm.pdf(data_normal, loc=0, scale=0.75))\n",
        "pdff = pdf/np.sum(pdf)\n",
        "2**((np.random.choice(a= data_normal, p=pdff))/2)\n",
        "def play(s, a, b):\n",
        "  d=0\n",
        "  while True:\n",
        "    v = 4**((np.random.choice(a= data_normal, p=pdff))/2)\n",
        "    if v < 1:\n",
        "      z2 = round((1/v)+d)\n",
        "      d = (1/v)-z2 + d\n",
        "      z1 = 1\n",
        "    else:\n",
        "      z1 = round(v+d)\n",
        "      d = v - z1 + d\n",
        "      z2 = 1\n",
        "    print(\"The speed of opponent is\", z2)\n",
        "    print(\" The speed of ours is\", z1)\n",
        "    randturn(s, b, z2)\n",
        "    o=checkwin(s, a, b)\n",
        "    if o == 1:\n",
        "      return\n",
        "    turn(s, a, z1)\n",
        "    display(s)\n",
        "    o=checkwin(s, a, b)\n",
        "    if o == 1:\n",
        "      return\n",
        "# Here the parameters are as follows:-\n",
        "# s: The silo matrix\n",
        "# a: The number(ball) representing our team\n",
        "# b: The number(ball) representing opponent team\n",
        "# z1: The number of balls the robot puts in any silo in one unit time by our team\n",
        "# z2: The number of balls the robot puts in any silo in one unit time by opponent team\n"
      ]
    },
    {
      "cell_type": "code",
      "source": [
        "#Lets assume i am team 1 and opponent is team 0."
      ],
      "metadata": {
        "id": "FXTY92IMns9i"
      },
      "execution_count": 27,
      "outputs": []
    },
    {
      "cell_type": "code",
      "source": [
        "s=[[] ,[], [], [], []]\n",
        "play(s, 1, 0)"
      ],
      "metadata": {
        "colab": {
          "base_uri": "https://localhost:8080/"
        },
        "id": "uVNyNavSNyK8",
        "outputId": "36890bd0-c6de-47b7-ef0d-ba00f2e8f859"
      },
      "execution_count": 28,
      "outputs": [
        {
          "output_type": "stream",
          "name": "stdout",
          "text": [
            "The speed of opponent is 1\n",
            " The speed of ours is 1\n",
            "x x x x x \n",
            "x x x x x \n",
            "x x x x 0 \n",
            "\n",
            "a:  0  b:  0\n",
            "x x x x x \n",
            "x x x x x \n",
            "1 x x x 0 \n",
            "\n",
            "a:  0  b:  0\n",
            "The speed of opponent is 1\n",
            " The speed of ours is 1\n",
            "x x x x x \n",
            "x x x x 0 \n",
            "1 x x x 0 \n",
            "\n",
            "a:  0  b:  0\n",
            "x x x x 1 \n",
            "x x x x 0 \n",
            "1 x x x 0 \n",
            "\n",
            "a:  0  b:  0\n",
            "The speed of opponent is 2\n",
            " The speed of ours is 1\n",
            "0 x x x 1 \n",
            "0 x x x 0 \n",
            "1 x x x 0 \n",
            "\n",
            "a:  0  b:  1\n",
            "0 x x x 1 \n",
            "0 x x x 0 \n",
            "1 1 x x 0 \n",
            "\n",
            "a:  0  b:  1\n",
            "The speed of opponent is 1\n",
            " The speed of ours is 1\n",
            "0 x x x 1 \n",
            "0 x x x 0 \n",
            "1 1 0 x 0 \n",
            "\n",
            "a:  0  b:  1\n",
            "0 x x x 1 \n",
            "0 x x x 0 \n",
            "1 1 0 1 0 \n",
            "\n",
            "a:  0  b:  1\n",
            "The speed of opponent is 2\n",
            " The speed of ours is 1\n",
            "0 x x x 1 \n",
            "0 0 0 x 0 \n",
            "1 1 0 1 0 \n",
            "\n",
            "a:  0  b:  1\n",
            "0 1 x x 1 \n",
            "0 0 0 x 0 \n",
            "1 1 0 1 0 \n",
            "\n",
            "a:  1  b:  1\n",
            "The speed of opponent is 1\n",
            " The speed of ours is 1\n",
            "0 1 0 x 1 \n",
            "0 0 0 x 0 \n",
            "1 1 0 1 0 \n",
            "\n",
            "a:  1  b:  2\n",
            "0 1 0 x 1 \n",
            "0 0 0 1 0 \n",
            "1 1 0 1 0 \n",
            "\n",
            "a:  1  b:  2\n",
            "The speed of opponent is 1\n",
            " The speed of ours is 1\n",
            "0 1 0 0 1 \n",
            "0 0 0 1 0 \n",
            "1 1 0 1 0 \n",
            "\n",
            "a:  1  b:  2\n",
            "No clear winner\n"
          ]
        }
      ]
    },
    {
      "cell_type": "code",
      "source": [
        "data_normal = norm.rvs(size=10000,loc=0,scale=0.75)\n",
        "print(max(data_normal))\n",
        "print(min(data_normal))\n"
      ],
      "metadata": {
        "colab": {
          "base_uri": "https://localhost:8080/"
        },
        "id": "0GPXtNT3v2QS",
        "outputId": "235c94f3-7902-4373-f81f-b64a0650ada1"
      },
      "execution_count": 29,
      "outputs": [
        {
          "output_type": "stream",
          "name": "stdout",
          "text": [
            "2.9133946774940696\n",
            "-3.062398585875993\n"
          ]
        }
      ]
    },
    {
      "cell_type": "code",
      "source": [
        "ax = sns.distplot(data_normal,\n",
        "                  bins=100,\n",
        "                  kde=True,\n",
        "                  color='skyblue',\n",
        "                  hist_kws={\"linewidth\": 15,'alpha':1})\n",
        "ax.set(xlabel='Normal Distribution', ylabel='Frequency')\n"
      ],
      "metadata": {
        "colab": {
          "base_uri": "https://localhost:8080/",
          "height": 660
        },
        "id": "DQrIV2ptv4mA",
        "outputId": "484f32b5-1133-4c67-c5c6-441a604041f2"
      },
      "execution_count": 30,
      "outputs": [
        {
          "output_type": "stream",
          "name": "stderr",
          "text": [
            "<ipython-input-30-0cf4c5190de7>:1: UserWarning: \n",
            "\n",
            "`distplot` is a deprecated function and will be removed in seaborn v0.14.0.\n",
            "\n",
            "Please adapt your code to use either `displot` (a figure-level function with\n",
            "similar flexibility) or `histplot` (an axes-level function for histograms).\n",
            "\n",
            "For a guide to updating your code to use the new functions, please see\n",
            "https://gist.github.com/mwaskom/de44147ed2974457ad6372750bbe5751\n",
            "\n",
            "  ax = sns.distplot(data_normal,\n"
          ]
        },
        {
          "output_type": "execute_result",
          "data": {
            "text/plain": [
              "[Text(0.5, 0, 'Normal Distribution'), Text(0, 0.5, 'Frequency')]"
            ]
          },
          "metadata": {},
          "execution_count": 30
        },
        {
          "output_type": "display_data",
          "data": {
            "text/plain": [
              "<Figure size 640x480 with 1 Axes>"
            ],
            "image/png": "[encoded data removed]"
          },
          "metadata": {}
        }
      ]
    },
    {
      "cell_type": "code",
      "source": [
        "pdf = (norm.pdf(data_normal, loc=0, scale=0.75))\n",
        "pdff = pdf/np.sum(pdf)\n",
        "2**((np.random.choice(a= data_normal, p=pdff))/2)"
      ],
      "metadata": {
        "colab": {
          "base_uri": "https://localhost:8080/"
        },
        "id": "o044kTAVFjd-",
        "outputId": "176ff6b0-a1ff-403c-e717-3e1fc7f74641"
      },
      "execution_count": 31,
      "outputs": [
        {
          "output_type": "execute_result",
          "data": {
            "text/plain": [
              "0.9231264213201756"
            ]
          },
          "metadata": {},
          "execution_count": 31
        }
      ]
    },
    {
      "cell_type": "code",
      "source": [],
      "metadata": {
        "id": "CwOV_wNb3oHw"
      },
      "execution_count": null,
      "outputs": []
    }
  ]
}